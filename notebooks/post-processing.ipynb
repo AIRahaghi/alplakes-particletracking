{
 "cells": [
  {
   "cell_type": "code",
   "execution_count": 10,
   "id": "c3f77e1b",
   "metadata": {},
   "outputs": [],
   "source": [
    "import os\n",
    "import xarray as xr\n",
    "import numpy as np\n",
    "import matplotlib.pyplot as plt"
   ]
  },
  {
   "cell_type": "code",
   "execution_count": 2,
   "id": "b8852910",
   "metadata": {},
   "outputs": [
    {
     "data": {
      "text/plain": [
       "['results_inout.nc', 'results_run.nc']"
      ]
     },
     "execution_count": 2,
     "metadata": {},
     "output_type": "execute_result"
    }
   ],
   "source": [
    "os.listdir(\"../runs/StMoritz/output\")"
   ]
  },
  {
   "cell_type": "code",
   "execution_count": 3,
   "id": "867332f6",
   "metadata": {},
   "outputs": [],
   "source": [
    "data_dir = \"../runs/StMoritz/output\"\n",
    "fname = \"results\"\n",
    "data_file = os.path.join(data_dir, \"%s_run.nc\" % fname)\n",
    "inout_file = os.path.join(data_dir, \"%s_inout.nc\" % fname)\n",
    "\n",
    "# open without chunks otherwise loading takes forever\n",
    "data = xr.open_dataset(data_file, decode_times=True)\n",
    "inout = xr.open_dataset(inout_file, decode_times=True)"
   ]
  },
  {
   "cell_type": "code",
   "execution_count": 5,
   "id": "1de96e8d",
   "metadata": {},
   "outputs": [],
   "source": [
    "# read all the grid- and time-related outputs\n",
    "time_plt = data.time\n",
    "xG = data.XG_p1\n",
    "yG = data.YG_p1\n",
    "xC = data.XC\n",
    "yC = data.YC\n",
    "bathy = data.Depth.to_masked_array()\n",
    "\n",
    "xx_com = np.array(xG.data)\n",
    "yy_com = np.array(yG.data)\n"
   ]
  },
  {
   "cell_type": "code",
   "execution_count": 6,
   "id": "59023a41",
   "metadata": {},
   "outputs": [],
   "source": [
    " # realease depth which will be plotted\n",
    "z0 = [1,3]\n",
    "zdata = []\n",
    "for zz in z0:\n",
    "    sel_pid = inout.pid.where(inout.z_ini==zz, drop=True)\n",
    "    zd = data.sel(pid=sel_pid, drop=True)\n",
    "    zd.xtrack.load()\n",
    "    zd.ytrack.load()\n",
    "    zd.ztrack.load()\n",
    "    zdata.append(zd)"
   ]
  },
  {
   "cell_type": "code",
   "execution_count": 7,
   "id": "82855905",
   "metadata": {},
   "outputs": [],
   "source": [
    "output_path = data_dir+'PT_postproc/'"
   ]
  },
  {
   "cell_type": "code",
   "execution_count": 12,
   "id": "57661328",
   "metadata": {},
   "outputs": [
    {
     "ename": "NameError",
     "evalue": "name 'xp_conv' is not defined",
     "output_type": "error",
     "traceback": [
      "\u001b[0;31m---------------------------------------------------------------------------\u001b[0m",
      "\u001b[0;31mNameError\u001b[0m                                 Traceback (most recent call last)",
      "Cell \u001b[0;32mIn[12], line 5\u001b[0m\n\u001b[1;32m      1\u001b[0m \u001b[38;5;66;03m# plot the snapshots of particle tracking results (will be used to make the movie)\u001b[39;00m\n\u001b[1;32m      2\u001b[0m \u001b[38;5;66;03m# the post-processing can be modifed by assigning a depth-weight function depending on the secchi depth. \u001b[39;00m\n\u001b[1;32m      3\u001b[0m \u001b[38;5;66;03m# I implemented it for the Uroglena paper, and we can do it later for all lakes\u001b[39;00m\n\u001b[0;32m----> 5\u001b[0m xp_conv \u001b[38;5;241m*\u001b[39m\u001b[38;5;241m=\u001b[39m \u001b[38;5;241m1.e-3\u001b[39m\n\u001b[1;32m      6\u001b[0m yp_conv \u001b[38;5;241m*\u001b[39m\u001b[38;5;241m=\u001b[39m \u001b[38;5;241m1.e-3\u001b[39m\n\u001b[1;32m      8\u001b[0m get_ipython()\u001b[38;5;241m.\u001b[39mrun_line_magic(\u001b[38;5;124m'\u001b[39m\u001b[38;5;124mmatplotlib\u001b[39m\u001b[38;5;124m'\u001b[39m, \u001b[38;5;124m'\u001b[39m\u001b[38;5;124minline\u001b[39m\u001b[38;5;124m'\u001b[39m)\n",
      "\u001b[0;31mNameError\u001b[0m: name 'xp_conv' is not defined"
     ]
    }
   ],
   "source": [
    "# plot the snapshots of particle tracking results (will be used to make the movie)\n",
    "# the post-processing can be modifed by assigning a depth-weight function depending on the secchi depth. \n",
    "# I implemented it for the Uroglena paper, and we can do it later for all lakes\n",
    "\n",
    "xp_conv *= 1.e-3\n",
    "yp_conv *= 1.e-3\n",
    "\n",
    "%matplotlib inline\n",
    "for qq in range(len(time_plt)):\n",
    "    # cutoff_date = '2021-09-05T09:30:00.000000000'\n",
    "\n",
    "    ###############\n",
    "    for zd in zdata:\n",
    "        # now = zd.sel(time=np.datetime64(cutoff_date), drop=True)\n",
    "        now = zd.sel(time=time_plt[qq], drop=True)\n",
    "        xp = (now.xtrack).to_masked_array().filled()\n",
    "        xp[xp > 1e9] = np.nan\n",
    "        yp = now.ytrack.to_masked_array().filled()\n",
    "        yp[yp > 1e9] = np.nan\n",
    "        zp = now.ztrack.to_masked_array().filled()\n",
    "        zp[zp > 35] = np.nan\n",
    "\n",
    "\n",
    "    ###############   \n",
    "    \"\"\"part_no_snap, _, _ = np.histogram2d(xp, yp, bins=[xg_plt[0,:],yg_plt[:,0]])\n",
    "    part_no_snap = part_no_snap.T\n",
    "    part_no_snap[part_no_snap<2] = np.nan\n",
    "    min_val = 2 #np.nanquantile(part_no_snap,0.2)\n",
    "    part_no_snap[part_no_snap<min_val] = np.nan\n",
    "    # max_val = np.nanquantile(part_no_snap,0.8)\n",
    "    \n",
    "\n",
    "    ############### \n",
    "    part_depth_snap = part_no_snap.copy()\n",
    "    part_depth_snap[:,:] = 0\n",
    "\n",
    "    for ii in range(len(xp)):\n",
    "        if ((~np.isnan(xp[ii])) & (~np.isnan(yp[ii]))):\n",
    "            ind_x = np.searchsorted(0.5*(xg_plt[0,:-1]+xg_plt[0,1:]),xp[ii])\n",
    "            ind_y = np.searchsorted(0.5*(yg_plt[:-1,0]+yg_plt[1:,0]),yp[ii])\n",
    "            if ((~np.isnan(zp[ii])) & (zp[ii]<5)):\n",
    "                part_depth_snap[ind_y,ind_x] = part_depth_snap[ind_y,ind_x]+zp[ii]\n",
    "\n",
    "    part_depth_snap = part_depth_snap/part_no_snap\n",
    "    # part_depth_snap[part_depth_snap>60] = np.nan\n",
    "    # part_no_snap[part_depth_snap>10] = np.nan\"\"\"\n",
    "\n",
    "    fig_size = (16,5)\n",
    "\n",
    "\n",
    "    f = plt.figure(figsize=fig_size)\n",
    "    #cmocean.cm.balance\n",
    "    ax = f.add_subplot(121)\n",
    "    plt.pcolormesh(xp_conv[:-1,:-1], yp_conv[:-1,:-1],lake_arr,alpha=0.1)\n",
    "    plt.hold=True\n",
    "    # SS = plt.pcolormesh(xx_sg,yy_sg,Temp, cmap=cmocean.cm.thermal,shading='flat')\n",
    "    SS = plt.pcolormesh(xp_conv[:-1,:-1],yp_conv[:-1,:-1],part_no_snap,vmin=np.nanquantile(part_no_snap,0.25), vmax=np.nanquantile(part_no_snap,0.75), cmap='viridis')\n",
    "#     ax.plot(xs,ys, 'k-', lw=1.5)\n",
    "#     plt.plot(xp_conv, yp_conv,'b',linewidth=0.1) # use plot, not scatter\n",
    "#     plt.plot(np.transpose(xp_conv), np.transpose(yp_conv),'b',linewidth=0.1) # add this here\n",
    "\n",
    "    plt.xticks(fontname=font_feature[0],fontsize=font_feature[2])\n",
    "    plt.yticks(fontname=font_feature[0],fontsize=font_feature[2])\n",
    "\n",
    "#     ax.set_xlim(497, 565)\n",
    "#     ax.set_ylim(115, 155)\n",
    "    ax.set_aspect('equal')\n",
    "    ax.set_xlabel(\"Lat (km CH1903)\",fontname=font_feature[0],fontsize=font_feature[1])\n",
    "    ax.set_ylabel(\"Lon (km CH1903)\",fontname=font_feature[0],fontsize=font_feature[1])\n",
    "    ax.annotate(str(time_plt[qq].values.astype(\"datetime64[m]\")).replace(\"T\", \" \"),xy=(0.02, 0.9), xycoords='axes fraction',fontname=font_feature[0],fontsize=font_feature[1])\n",
    "\n",
    "    cbar = plt.colorbar(fraction=0.04,orientation=\"horizontal\",pad=-0.25,extend='max');\n",
    "    cbar.ax.set_xticklabels([])\n",
    "    cbar.ax.set_xticks([])\n",
    "    cbar.set_label(label='$\\mathregular{Particle \\ concentration\\ [-]}$',family=font_feature[0],size=font_feature[1])\n",
    "\n",
    "\n",
    "    ax2 = f.add_subplot(122)\n",
    "    plt.pcolormesh(xp_conv[:-1,:-1], yp_conv[:-1,:-1],lake_arr,alpha=0.1)\n",
    "    plt.hold=True\n",
    "    # SS = plt.pcolormesh(xx_sg,yy_sg,Temp, cmap=cmocean.cm.thermal,shading='flat')\n",
    "    SS = plt.pcolormesh(xp_conv[:-1,:-1],yp_conv[:-1,:-1],part_depth_snap, cmap='jet',vmin=0, vmax=20)\n",
    "    plt.xticks(fontname=font_feature[0],fontsize=font_feature[2])\n",
    "    plt.yticks(fontname=font_feature[0],fontsize=font_feature[2])\n",
    "\n",
    "#     ax2.set_xlim(497, 565)\n",
    "#     ax2.set_ylim(115, 155)\n",
    "    ax2.set_aspect('equal')\n",
    "    ax2.set_xlabel(\"Lat (km CH1903)\",fontname=font_feature[0],fontsize=font_feature[1])\n",
    "    ax2.set_ylabel(\"Lon (km CH1903)\",fontname=font_feature[0],fontsize=font_feature[1])\n",
    "\n",
    "\n",
    "    cbar2 = plt.colorbar(fraction=0.04,orientation=\"horizontal\",pad=-0.25,extend='max',format='%:.0f');\n",
    "    cbar2.ax.set_xticklabels([0,5,10,15,20],fontname=font_feature[0],fontsize=font_feature[2])\n",
    "    cbar2.set_label(label='$\\mathregular{Depth\\ [m]}$',family=font_feature[0],size=font_feature[1])\n",
    "    cbar2.ax.xaxis.set_ticks_position('top')\n",
    "\n",
    "    plt.savefig(output_path+str(qq).zfill(3)+'_'+str(time_plt[qq].values.astype(\"datetime64[m]\")).replace(\"T\", \" \")[0:10]+'H'+str(time_plt[qq].values.astype(\"datetime64[m]\")).replace(\"T\", \" \")[11:13]+'.png',dpi=300, bbox_inches = 'tight')\n",
    "\n",
    "    plt.show()\n",
    "    plt.close()"
   ]
  },
  {
   "cell_type": "code",
   "execution_count": null,
   "id": "f63c900b",
   "metadata": {},
   "outputs": [],
   "source": []
  }
 ],
 "metadata": {
  "kernelspec": {
   "display_name": "particle-tracking",
   "language": "python",
   "name": "particle-tracking"
  },
  "language_info": {
   "codemirror_mode": {
    "name": "ipython",
    "version": 3
   },
   "file_extension": ".py",
   "mimetype": "text/x-python",
   "name": "python",
   "nbconvert_exporter": "python",
   "pygments_lexer": "ipython3",
   "version": "3.9.16"
  }
 },
 "nbformat": 4,
 "nbformat_minor": 5
}
