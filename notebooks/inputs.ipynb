{
 "cells": [
  {
   "cell_type": "code",
   "execution_count": 10,
   "id": "829a7fe3",
   "metadata": {},
   "outputs": [],
   "source": [
    "import os\n",
    "import sys\n",
    "import shutil\n",
    "sys.path.append('../src')\n",
    "from datetime import datetime\n",
    "from functions import download_simulation_data\n",
    "api = \"https://alplakes-api.eawag.ch/simulations/file/delft3d-flow/{}/{}\""
   ]
  },
  {
   "cell_type": "markdown",
   "id": "1dd35a98",
   "metadata": {},
   "source": [
    "# Define Inputs\n",
    "This section contains the user defined parameters"
   ]
  },
  {
   "cell_type": "markdown",
   "id": "e8e1dc84",
   "metadata": {},
   "source": [
    "### Folders"
   ]
  },
  {
   "cell_type": "code",
   "execution_count": 8,
   "id": "df7bbe9d",
   "metadata": {},
   "outputs": [],
   "source": [
    "data_dir = \"../data/runs\"\n",
    "simulation_dir = \"../data/simulations\"\n",
    "grid_dir = \"../grids\"\n",
    "config = \"../ctracker/configuration.py\""
   ]
  },
  {
   "cell_type": "markdown",
   "id": "eade304a",
   "metadata": {},
   "source": [
    "### Tracing Period"
   ]
  },
  {
   "cell_type": "code",
   "execution_count": 3,
   "id": "d648eae9",
   "metadata": {},
   "outputs": [],
   "source": [
    "start = datetime(2023, 4, 1, 9) # Start time of tracking\n",
    "end = datetime(2023, 4, 6, 4) # End time of tracking "
   ]
  },
  {
   "cell_type": "markdown",
   "id": "6d0675b5",
   "metadata": {},
   "source": [
    "### Lake Selection\n",
    "[\"ageri\", \"biel\", \"caldonazzo\", \"garda\", \"geneva\", \"greifensee\",\n",
    " \"hallwil\", \"joux\", \"lugano\", \"murten\", \"stmoritz\", \"zurich\"]"
   ]
  },
  {
   "cell_type": "code",
   "execution_count": 4,
   "id": "03b1d89f",
   "metadata": {},
   "outputs": [],
   "source": [
    "lake = \"greifensee\""
   ]
  },
  {
   "cell_type": "markdown",
   "id": "d3fedb72",
   "metadata": {},
   "source": [
    "### Particle Seeding"
   ]
  },
  {
   "cell_type": "code",
   "execution_count": 13,
   "id": "587cd0c5",
   "metadata": {},
   "outputs": [],
   "source": [
    "particles = [{\"y\": 47.35162, \"x\": 8.67751, \"depth\": 1}]"
   ]
  },
  {
   "cell_type": "markdown",
   "id": "a988dcbf",
   "metadata": {},
   "source": [
    "## Generate Input Data\n",
    "This section generates the necessary input files to run ctracker"
   ]
  },
  {
   "cell_type": "markdown",
   "id": "341e1eb1",
   "metadata": {},
   "source": [
    "Create working directory"
   ]
  },
  {
   "cell_type": "code",
   "execution_count": 6,
   "id": "68d6d8f3",
   "metadata": {},
   "outputs": [],
   "source": [
    "now = datetime.now()\n",
    "folder = \"pt_{}_{}_{}_{}p_{}\".format(lake,\n",
    "                                     start.strftime('%Y%m%d%H%M'),\n",
    "                                     end.strftime('%Y%m%d%H%M'),\n",
    "                                     len(particles),\n",
    "                                     now.strftime('%Y%m%d%H%M'))\n",
    "working_dir = os.path.join(data_dir, folder)\n",
    "os.makedirs(working_dir, exist_ok=True)\n",
    "print(working_dir)"
   ]
  },
  {
   "cell_type": "markdown",
   "id": "48d9a203",
   "metadata": {},
   "source": [
    "Download simulation data"
   ]
  },
  {
   "cell_type": "code",
   "execution_count": 7,
   "id": "989646f5",
   "metadata": {},
   "outputs": [
    {
     "name": "stdout",
     "output_type": "stream",
     "text": [
      "Downloading file: ../data/simulations/greifensee/20230326.nc\n",
      "Downloading file: ../data/simulations/greifensee/20230402.nc\n"
     ]
    }
   ],
   "source": [
    "files = download_simulation_data(start, end, lake, api, simulation_dir)"
   ]
  },
  {
   "cell_type": "markdown",
   "id": "54ab1233",
   "metadata": {},
   "source": [
    "Copy config file"
   ]
  },
  {
   "cell_type": "code",
   "execution_count": 11,
   "id": "83d95a4d",
   "metadata": {},
   "outputs": [
    {
     "data": {
      "text/plain": [
       "'../data/runs/pt_greifensee_202304010900_202304060400_1p_202307121039'"
      ]
     },
     "execution_count": 11,
     "metadata": {},
     "output_type": "execute_result"
    }
   ],
   "source": [
    "shutil.copyfile(config, working_dir)"
   ]
  },
  {
   "cell_type": "code",
   "execution_count": null,
   "id": "747382de",
   "metadata": {},
   "outputs": [],
   "source": []
  }
 ],
 "metadata": {
  "kernelspec": {
   "display_name": "particle-tracking",
   "language": "python",
   "name": "particle-tracking"
  },
  "language_info": {
   "codemirror_mode": {
    "name": "ipython",
    "version": 3
   },
   "file_extension": ".py",
   "mimetype": "text/x-python",
   "name": "python",
   "nbconvert_exporter": "python",
   "pygments_lexer": "ipython3",
   "version": "3.9.16"
  }
 },
 "nbformat": 4,
 "nbformat_minor": 5
}
