{
 "cells": [
  {
   "cell_type": "code",
   "execution_count": 1,
   "id": "829a7fe3",
   "metadata": {},
   "outputs": [],
   "source": [
    "import sys\n",
    "sys.path.append('../src')\n",
    "from datetime import datetime\n",
    "from preprocess import preprocess"
   ]
  },
  {
   "cell_type": "markdown",
   "id": "1dd35a98",
   "metadata": {},
   "source": [
    "# Define Inputs\n",
    "This section contains the user defined parameters"
   ]
  },
  {
   "cell_type": "markdown",
   "id": "eade304a",
   "metadata": {},
   "source": [
    "### Tracing Period"
   ]
  },
  {
   "cell_type": "code",
   "execution_count": 2,
   "id": "d648eae9",
   "metadata": {},
   "outputs": [],
   "source": [
    "start = datetime(2023, 7, 2, 9)\n",
    "end = datetime(2023, 7, 4, 4)"
   ]
  },
  {
   "cell_type": "markdown",
   "id": "6d0675b5",
   "metadata": {},
   "source": [
    "### Lake Selection\n",
    "[\"ageri\", \"biel\", \"caldonazzo\", \"garda\", \"geneva\", \"greifensee\",\n",
    " \"hallwil\", \"joux\", \"lugano\", \"murten\", \"stmoritz\", \"zurich\"]"
   ]
  },
  {
   "cell_type": "code",
   "execution_count": 3,
   "id": "03b1d89f",
   "metadata": {},
   "outputs": [],
   "source": [
    "lake = \"stmoritz\""
   ]
  },
  {
   "cell_type": "markdown",
   "id": "d3fedb72",
   "metadata": {},
   "source": [
    "### Particle Seeding"
   ]
  },
  {
   "cell_type": "code",
   "execution_count": 4,
   "id": "587cd0c5",
   "metadata": {},
   "outputs": [],
   "source": [
    "particles = [{\"y\": 46.49447, \"x\": 9.84660, \"z\": 0.5}]"
   ]
  },
  {
   "cell_type": "markdown",
   "id": "a988dcbf",
   "metadata": {},
   "source": [
    "## Generate Input Data\n",
    "This section generates the necessary input files to run ctracker"
   ]
  },
  {
   "cell_type": "code",
   "execution_count": 5,
   "id": "5e484bb3",
   "metadata": {},
   "outputs": [
    {
     "name": "stdout",
     "output_type": "stream",
     "text": [
      "{'y': [46.49447], 'x': [9.8466], 'z': [0.5]}\n"
     ]
    }
   ],
   "source": [
    "preprocess(\"testing\", lake, start, end, particles)"
   ]
  }
 ],
 "metadata": {
  "kernelspec": {
   "display_name": "particle-tracking",
   "language": "python",
   "name": "particle-tracking"
  },
  "language_info": {
   "codemirror_mode": {
    "name": "ipython",
    "version": 3
   },
   "file_extension": ".py",
   "mimetype": "text/x-python",
   "name": "python",
   "nbconvert_exporter": "python",
   "pygments_lexer": "ipython3",
   "version": "3.9.16"
  }
 },
 "nbformat": 4,
 "nbformat_minor": 5
}
